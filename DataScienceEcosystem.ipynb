{
 "cells": [
  {
   "cell_type": "markdown",
   "id": "792e6f0a-3ae4-4ef7-8265-0e99689aa720",
   "metadata": {
    "tags": []
   },
   "source": [
    "# Data Science Tools and Ecosystem"
   ]
  },
  {
   "cell_type": "markdown",
   "id": "113ab784-5e2b-43a2-a809-8a0aece75831",
   "metadata": {},
   "source": [
    "In this notebook, Data Science Tools and Ecosystem are summarized.\n",
    "\n",
    "<b> Objectives: </b>\n",
    "> - Libraries\n",
    "> - APIs\n",
    "> - Languages for Data Science"
   ]
  },
  {
   "cell_type": "markdown",
   "id": "4af0ccd3-414b-44b0-bc0d-c3b5a81f5052",
   "metadata": {
    "tags": []
   },
   "source": [
    " Some of the popular languages that Data Scientists use are:\n",
    "> 1. Python\n",
    ">   2. R\n",
    ">  3. Sql"
   ]
  },
  {
   "cell_type": "markdown",
   "id": "9b76ad68-f536-44b9-bee2-cd80dfbf70c5",
   "metadata": {},
   "source": [
    "Some of the commonly used libraries used by Data Scientists include:\n",
    "> 1. Scientific Computing Libraries\n",
    "> 2. Visualization Libraries\n",
    "> 3. High-level - Machine Learning and Deep Learning Libraries"
   ]
  },
  {
   "cell_type": "markdown",
   "id": "9f43a1de-cb46-4dc0-8458-893f49596608",
   "metadata": {},
   "source": [
    "|Data Science Tools|\n",
    "|-------|\n",
    "|Jupyter Notebooks|\n",
    "|R Studio|\n",
    "|Watson Studio|"
   ]
  },
  {
   "cell_type": "markdown",
   "id": "73b648c6-038a-4db8-bf2e-dbcc6e06a93f",
   "metadata": {
    "tags": []
   },
   "source": [
    "### Below are a few examples of evaluating arithmetic expressions in Python"
   ]
  },
  {
   "cell_type": "markdown",
   "id": "63980154-0226-4f50-96a9-9ad5a9d87755",
   "metadata": {
    "tags": []
   },
   "source": [
    "This a simple arithmetic expression to mutiply then add integers\n"
   ]
  },
  {
   "cell_type": "code",
   "execution_count": 8,
   "id": "9a3fee82-ffe4-4ff7-9390-71bc44b5ecbb",
   "metadata": {
    "tags": []
   },
   "outputs": [
    {
     "name": "stdout",
     "output_type": "stream",
     "text": [
      "17\n"
     ]
    }
   ],
   "source": [
    "print((3*4)+5)"
   ]
  },
  {
   "cell_type": "markdown",
   "id": "dd85b410-69f2-465b-a776-fee613728e86",
   "metadata": {},
   "source": [
    "This will convert 200 minutes to hours by diving by 60"
   ]
  },
  {
   "cell_type": "code",
   "execution_count": 9,
   "id": "797ca87c-10e9-42f2-8f99-215ef646d33d",
   "metadata": {
    "tags": []
   },
   "outputs": [
    {
     "name": "stdout",
     "output_type": "stream",
     "text": [
      "3.3333333333333335\n"
     ]
    }
   ],
   "source": [
    "print(200/60)"
   ]
  },
  {
   "cell_type": "markdown",
   "id": "255a11dc-72d7-44fb-914e-4ac1abcd0ff1",
   "metadata": {},
   "source": [
    "## Author\n",
    "Farah"
   ]
  },
  {
   "cell_type": "code",
   "execution_count": null,
   "id": "8be4a54a-e286-4568-a75d-4dd977602adf",
   "metadata": {},
   "outputs": [],
   "source": []
  }
 ],
 "metadata": {
  "kernelspec": {
   "display_name": "Python 3 (ipykernel)",
   "language": "python",
   "name": "python3"
  },
  "language_info": {
   "codemirror_mode": {
    "name": "ipython",
    "version": 3
   },
   "file_extension": ".py",
   "mimetype": "text/x-python",
   "name": "python",
   "nbconvert_exporter": "python",
   "pygments_lexer": "ipython3",
   "version": "3.11.5"
  }
 },
 "nbformat": 4,
 "nbformat_minor": 5
}
